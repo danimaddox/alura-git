{
  "nbformat": 4,
  "nbformat_minor": 0,
  "metadata": {
    "colab": {
      "provenance": [],
      "authorship_tag": "ABX9TyNJsJi1sooeQg3lDUxViIhd",
      "include_colab_link": true
    },
    "kernelspec": {
      "name": "python3",
      "display_name": "Python 3"
    },
    "language_info": {
      "name": "python"
    }
  },
  "cells": [
    {
      "cell_type": "markdown",
      "metadata": {
        "id": "view-in-github",
        "colab_type": "text"
      },
      "source": [
        "<a href=\"https://colab.research.google.com/github/danimaddox/alura-git/blob/main/html_parser_.ipynb\" target=\"_parent\"><img src=\"https://colab.research.google.com/assets/colab-badge.svg\" alt=\"Open In Colab\"/></a>"
      ]
    },
    {
      "cell_type": "code",
      "execution_count": 12,
      "metadata": {
        "colab": {
          "base_uri": "https://localhost:8080/"
        },
        "id": "mGgydYZ4x8Nz",
        "outputId": "f5383a94-c81d-4799-a596-6fd5824d1fc2"
      },
      "outputs": [
        {
          "output_type": "execute_result",
          "data": {
            "text/plain": [
              "429"
            ]
          },
          "metadata": {},
          "execution_count": 12
        }
      ],
      "source": [
        "from html.parser import HTMLParser\n",
        "from urllib.request import urlopen, Request\n",
        "class MyParser(HTMLParser):\n",
        " def __init__(self):\n",
        "    HTMLParser.__init__(self)\n",
        "    self.n_polos = 0\n",
        "\n",
        " def handle_starttag(self, tag, attrs):\n",
        "    if tag == 'p':\n",
        "      for attr in attrs:\n",
        "        if attr[0] == 'class' and attr[1] == 'item-polos':\n",
        "          self.n_polos += 1\n",
        "\n",
        " def num_polos(self):\n",
        "    return self.n_polos\n",
        "\n",
        "def getSource(url):\n",
        "    headers = {'User-Agent': 'Mozilla/5.0 (Windows NT 6.1)AppleWebKit/537.36 (KHTML, like Gecko) Chrome/41.0.2228.0Safari/537.3'}\n",
        "    reg_url = \"https:XXXXOOOO\"\n",
        "    req = Request(url=url, headers=headers)\n",
        "    html = urlopen(req).read()\n",
        "    return html.decode()\n",
        "\n",
        "html = getSource('https://univesp.br/cursos/engenharia-de-computacao')\n",
        "parser = MyParser()\n",
        "parser.feed(html)\n",
        "parser.num_polos()"
      ]
    }
  ]
}